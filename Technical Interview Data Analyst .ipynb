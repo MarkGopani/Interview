{
 "cells": [
  {
   "cell_type": "markdown",
   "metadata": {},
   "source": [
    "# Python interview for a data analyst role at an e-commerce firm."
   ]
  },
  {
   "cell_type": "code",
   "execution_count": 1,
   "metadata": {},
   "outputs": [],
   "source": [
    "import pandas as pd\n",
    "import numpy as np"
   ]
  },
  {
   "cell_type": "code",
   "execution_count": 2,
   "metadata": {},
   "outputs": [],
   "source": [
    "data = {\n",
    "  'Date': pd.date_range(start='2023-01-01', periods=31, freq='D'),\n",
    "  'CompanyA_StockPrice': [100, 102, 105, 108, 110, 112, 115, 113, 112, 109, 105, 102, 100, 98, 95, 97, 100, 105, 110, 112, 115, 118, 120, 121, 120, 118, 115, 112, 110, 108, 105],\n",
    "  'CompanyB_StockPrice': [75, 76, 78, 80, 82, 85, 86, 87, 88, 89, 91, 92, 93, 95, 96, 97, 98, 97, 96, 95, 94, 93, 91, 90, 89, 88, 87, 86, 85, 84, 83]\n",
    "}\n"
   ]
  },
  {
   "cell_type": "code",
   "execution_count": 3,
   "metadata": {},
   "outputs": [
    {
     "data": {
      "text/html": [
       "<div>\n",
       "<style scoped>\n",
       "    .dataframe tbody tr th:only-of-type {\n",
       "        vertical-align: middle;\n",
       "    }\n",
       "\n",
       "    .dataframe tbody tr th {\n",
       "        vertical-align: top;\n",
       "    }\n",
       "\n",
       "    .dataframe thead th {\n",
       "        text-align: right;\n",
       "    }\n",
       "</style>\n",
       "<table border=\"1\" class=\"dataframe\">\n",
       "  <thead>\n",
       "    <tr style=\"text-align: right;\">\n",
       "      <th></th>\n",
       "      <th>Date</th>\n",
       "      <th>CompanyA_StockPrice</th>\n",
       "      <th>CompanyB_StockPrice</th>\n",
       "    </tr>\n",
       "  </thead>\n",
       "  <tbody>\n",
       "    <tr>\n",
       "      <th>0</th>\n",
       "      <td>2023-01-01</td>\n",
       "      <td>100</td>\n",
       "      <td>75</td>\n",
       "    </tr>\n",
       "    <tr>\n",
       "      <th>1</th>\n",
       "      <td>2023-01-02</td>\n",
       "      <td>102</td>\n",
       "      <td>76</td>\n",
       "    </tr>\n",
       "    <tr>\n",
       "      <th>2</th>\n",
       "      <td>2023-01-03</td>\n",
       "      <td>105</td>\n",
       "      <td>78</td>\n",
       "    </tr>\n",
       "    <tr>\n",
       "      <th>3</th>\n",
       "      <td>2023-01-04</td>\n",
       "      <td>108</td>\n",
       "      <td>80</td>\n",
       "    </tr>\n",
       "    <tr>\n",
       "      <th>4</th>\n",
       "      <td>2023-01-05</td>\n",
       "      <td>110</td>\n",
       "      <td>82</td>\n",
       "    </tr>\n",
       "  </tbody>\n",
       "</table>\n",
       "</div>"
      ],
      "text/plain": [
       "        Date  CompanyA_StockPrice  CompanyB_StockPrice\n",
       "0 2023-01-01                  100                   75\n",
       "1 2023-01-02                  102                   76\n",
       "2 2023-01-03                  105                   78\n",
       "3 2023-01-04                  108                   80\n",
       "4 2023-01-05                  110                   82"
      ]
     },
     "execution_count": 3,
     "metadata": {},
     "output_type": "execute_result"
    }
   ],
   "source": [
    "df = pd.DataFrame(data)\n",
    "df.head()"
   ]
  },
  {
   "cell_type": "markdown",
   "metadata": {},
   "source": [
    "## Question 1: Find the top 5 dates when the percentage change in Company A's stock price was the highest."
   ]
  },
  {
   "cell_type": "code",
   "execution_count": 4,
   "metadata": {},
   "outputs": [],
   "source": [
    "#First I would calculate the percentage change for the CompanyA_StockPrice Variable\n",
    "df['CompanyA_PercentageChange'] = df['CompanyA_StockPrice'].pct_change()"
   ]
  },
  {
   "cell_type": "code",
   "execution_count": 5,
   "metadata": {},
   "outputs": [
    {
     "name": "stdout",
     "output_type": "stream",
     "text": [
      "Top 5 Dates with Highest Percentage Change in Company A's Stock Price:\n",
      "17   2023-01-18\n",
      "18   2023-01-19\n",
      "16   2023-01-17\n",
      "2    2023-01-03\n",
      "3    2023-01-04\n",
      "Name: Date, dtype: datetime64[ns]\n"
     ]
    }
   ],
   "source": [
    "#Fetching the top 5 dates using the nlargest Function\n",
    "top_5_dates = df.nlargest(5, 'CompanyA_PercentageChange')['Date']\n",
    "print(\"Top 5 Dates with Highest Percentage Change in Company A's Stock Price:\")\n",
    "print(top_5_dates)"
   ]
  },
  {
   "cell_type": "markdown",
   "metadata": {},
   "source": [
    "## Question 2: Calculate the annualized volatility of Company B's stock price. (Hint: Annualized volatility is the standard deviation of daily returns multiplied by the square root of the number of trading days in a year.)"
   ]
  },
  {
   "cell_type": "code",
   "execution_count": 6,
   "metadata": {},
   "outputs": [],
   "source": [
    "#First I would calculate the percentage change for the CompanyB_StockPrice Variable\n",
    "df['CompanyB_DailyReturns'] = df['CompanyB_StockPrice'].pct_change()"
   ]
  },
  {
   "cell_type": "code",
   "execution_count": 7,
   "metadata": {},
   "outputs": [
    {
     "name": "stdout",
     "output_type": "stream",
     "text": [
      "Annualized Volatility of Company B's Stock Price: 0.24664549347827988\n"
     ]
    }
   ],
   "source": [
    "# Using the formula for volatility and assuming 252 trading days in a year\n",
    "volatility = np.std(df['CompanyB_DailyReturns']) * np.sqrt(252) \n",
    "print(\"Annualized Volatility of Company B's Stock Price:\", volatility)"
   ]
  },
  {
   "cell_type": "markdown",
   "metadata": {},
   "source": [
    "## Question 3: Identify the longest streaks of consecutive days when the stock price of Company A was either increasing or decreasing continuously."
   ]
  },
  {
   "cell_type": "code",
   "execution_count": 8,
   "metadata": {},
   "outputs": [
    {
     "name": "stdout",
     "output_type": "stream",
     "text": [
      "Longest Consecutive Streaks of Increasing/Decreasing Days in Company A's Stock Price: 9\n"
     ]
    }
   ],
   "source": [
    "#using the .diff function to find the consecutive increasing/decreasing values\n",
    "df['CompanyA_Diff'] = df['CompanyA_StockPrice'].diff() > 0\n",
    "\n",
    "streaks = (df['CompanyA_Diff'] != df['CompanyA_Diff'].shift()).cumsum()\n",
    "longest_streak = df.groupby(['CompanyA_Diff', streaks])['Date'].count().max()\n",
    "print(\"Longest Consecutive Streaks of Increasing/Decreasing Days in Company A's Stock Price:\", longest_streak)"
   ]
  },
  {
   "cell_type": "markdown",
   "metadata": {},
   "source": [
    "## Question 4: Create a new column that represents the cumulative returns of Company A's stock price over the year."
   ]
  },
  {
   "cell_type": "code",
   "execution_count": 9,
   "metadata": {},
   "outputs": [
    {
     "data": {
      "text/html": [
       "<div>\n",
       "<style scoped>\n",
       "    .dataframe tbody tr th:only-of-type {\n",
       "        vertical-align: middle;\n",
       "    }\n",
       "\n",
       "    .dataframe tbody tr th {\n",
       "        vertical-align: top;\n",
       "    }\n",
       "\n",
       "    .dataframe thead th {\n",
       "        text-align: right;\n",
       "    }\n",
       "</style>\n",
       "<table border=\"1\" class=\"dataframe\">\n",
       "  <thead>\n",
       "    <tr style=\"text-align: right;\">\n",
       "      <th></th>\n",
       "      <th>Date</th>\n",
       "      <th>CompanyA_StockPrice</th>\n",
       "      <th>CompanyB_StockPrice</th>\n",
       "      <th>CompanyA_PercentageChange</th>\n",
       "      <th>CompanyB_DailyReturns</th>\n",
       "      <th>CompanyA_Diff</th>\n",
       "      <th>CompanyA_CumulativeReturns</th>\n",
       "    </tr>\n",
       "  </thead>\n",
       "  <tbody>\n",
       "    <tr>\n",
       "      <th>0</th>\n",
       "      <td>2023-01-01</td>\n",
       "      <td>100</td>\n",
       "      <td>75</td>\n",
       "      <td>NaN</td>\n",
       "      <td>NaN</td>\n",
       "      <td>False</td>\n",
       "      <td>NaN</td>\n",
       "    </tr>\n",
       "    <tr>\n",
       "      <th>1</th>\n",
       "      <td>2023-01-02</td>\n",
       "      <td>102</td>\n",
       "      <td>76</td>\n",
       "      <td>0.020000</td>\n",
       "      <td>0.013333</td>\n",
       "      <td>True</td>\n",
       "      <td>1.02</td>\n",
       "    </tr>\n",
       "    <tr>\n",
       "      <th>2</th>\n",
       "      <td>2023-01-03</td>\n",
       "      <td>105</td>\n",
       "      <td>78</td>\n",
       "      <td>0.029412</td>\n",
       "      <td>0.026316</td>\n",
       "      <td>True</td>\n",
       "      <td>1.05</td>\n",
       "    </tr>\n",
       "    <tr>\n",
       "      <th>3</th>\n",
       "      <td>2023-01-04</td>\n",
       "      <td>108</td>\n",
       "      <td>80</td>\n",
       "      <td>0.028571</td>\n",
       "      <td>0.025641</td>\n",
       "      <td>True</td>\n",
       "      <td>1.08</td>\n",
       "    </tr>\n",
       "    <tr>\n",
       "      <th>4</th>\n",
       "      <td>2023-01-05</td>\n",
       "      <td>110</td>\n",
       "      <td>82</td>\n",
       "      <td>0.018519</td>\n",
       "      <td>0.025000</td>\n",
       "      <td>True</td>\n",
       "      <td>1.10</td>\n",
       "    </tr>\n",
       "  </tbody>\n",
       "</table>\n",
       "</div>"
      ],
      "text/plain": [
       "        Date  CompanyA_StockPrice  CompanyB_StockPrice  \\\n",
       "0 2023-01-01                  100                   75   \n",
       "1 2023-01-02                  102                   76   \n",
       "2 2023-01-03                  105                   78   \n",
       "3 2023-01-04                  108                   80   \n",
       "4 2023-01-05                  110                   82   \n",
       "\n",
       "   CompanyA_PercentageChange  CompanyB_DailyReturns  CompanyA_Diff  \\\n",
       "0                        NaN                    NaN          False   \n",
       "1                   0.020000               0.013333           True   \n",
       "2                   0.029412               0.026316           True   \n",
       "3                   0.028571               0.025641           True   \n",
       "4                   0.018519               0.025000           True   \n",
       "\n",
       "   CompanyA_CumulativeReturns  \n",
       "0                         NaN  \n",
       "1                        1.02  \n",
       "2                        1.05  \n",
       "3                        1.08  \n",
       "4                        1.10  "
      ]
     },
     "execution_count": 9,
     "metadata": {},
     "output_type": "execute_result"
    }
   ],
   "source": [
    "df['CompanyA_CumulativeReturns'] = (1 + df['CompanyA_StockPrice'].pct_change()).cumprod()\n",
    "df.head()"
   ]
  },
  {
   "cell_type": "markdown",
   "metadata": {},
   "source": [
    "## Question 5: Calculate the 7-day rolling average of both Company A's and Company B's stock prices and find the date when the two rolling averages were closest to each other."
   ]
  },
  {
   "cell_type": "code",
   "execution_count": 10,
   "metadata": {},
   "outputs": [
    {
     "name": "stdout",
     "output_type": "stream",
     "text": [
      "Date with Closest Rolling Averages: 2023-01-18 00:00:00\n"
     ]
    }
   ],
   "source": [
    "df['CompanyA_7DayRollingAvg'] = df['CompanyA_StockPrice'].rolling(window=7).mean()\n",
    "df['CompanyB_7DayRollingAvg'] = df['CompanyB_StockPrice'].rolling(window=7).mean()\n",
    "df['RollingAvg_Difference'] = abs(df['CompanyA_7DayRollingAvg'] - df['CompanyB_7DayRollingAvg'])\n",
    "min_difference_date = df.loc[df['RollingAvg_Difference'].idxmin()]['Date']\n",
    "print(\"Date with Closest Rolling Averages:\", min_difference_date)"
   ]
  },
  {
   "cell_type": "markdown",
   "metadata": {},
   "source": [
    "## Question 6: Create a new DataFrame that contains only the dates when Company A's stock price was above its 50-day moving average, and Company B's stock price was below its 50-day moving average."
   ]
  },
  {
   "cell_type": "code",
   "execution_count": 11,
   "metadata": {},
   "outputs": [
    {
     "name": "stdout",
     "output_type": "stream",
     "text": [
      "DataFrame with Dates Meeting the Criteria:\n"
     ]
    },
    {
     "data": {
      "text/html": [
       "<div>\n",
       "<style scoped>\n",
       "    .dataframe tbody tr th:only-of-type {\n",
       "        vertical-align: middle;\n",
       "    }\n",
       "\n",
       "    .dataframe tbody tr th {\n",
       "        vertical-align: top;\n",
       "    }\n",
       "\n",
       "    .dataframe thead th {\n",
       "        text-align: right;\n",
       "    }\n",
       "</style>\n",
       "<table border=\"1\" class=\"dataframe\">\n",
       "  <thead>\n",
       "    <tr style=\"text-align: right;\">\n",
       "      <th></th>\n",
       "      <th>Date</th>\n",
       "      <th>CompanyA_StockPrice</th>\n",
       "      <th>CompanyB_StockPrice</th>\n",
       "      <th>CompanyA_PercentageChange</th>\n",
       "      <th>CompanyB_DailyReturns</th>\n",
       "      <th>CompanyA_Diff</th>\n",
       "      <th>CompanyA_CumulativeReturns</th>\n",
       "      <th>CompanyA_7DayRollingAvg</th>\n",
       "      <th>CompanyB_7DayRollingAvg</th>\n",
       "      <th>RollingAvg_Difference</th>\n",
       "      <th>CompanyA_50DayMovingAvg</th>\n",
       "      <th>CompanyB_50DayMovingAvg</th>\n",
       "    </tr>\n",
       "  </thead>\n",
       "  <tbody>\n",
       "    <tr>\n",
       "      <th>19</th>\n",
       "      <td>2023-01-20</td>\n",
       "      <td>112</td>\n",
       "      <td>95</td>\n",
       "      <td>0.018182</td>\n",
       "      <td>-0.010417</td>\n",
       "      <td>True</td>\n",
       "      <td>1.12</td>\n",
       "      <td>102.428571</td>\n",
       "      <td>96.285714</td>\n",
       "      <td>6.142857</td>\n",
       "      <td>102.428571</td>\n",
       "      <td>96.285714</td>\n",
       "    </tr>\n",
       "    <tr>\n",
       "      <th>20</th>\n",
       "      <td>2023-01-21</td>\n",
       "      <td>115</td>\n",
       "      <td>94</td>\n",
       "      <td>0.026786</td>\n",
       "      <td>-0.010526</td>\n",
       "      <td>True</td>\n",
       "      <td>1.15</td>\n",
       "      <td>104.857143</td>\n",
       "      <td>96.142857</td>\n",
       "      <td>8.714286</td>\n",
       "      <td>104.857143</td>\n",
       "      <td>96.142857</td>\n",
       "    </tr>\n",
       "    <tr>\n",
       "      <th>21</th>\n",
       "      <td>2023-01-22</td>\n",
       "      <td>118</td>\n",
       "      <td>93</td>\n",
       "      <td>0.026087</td>\n",
       "      <td>-0.010638</td>\n",
       "      <td>True</td>\n",
       "      <td>1.18</td>\n",
       "      <td>108.142857</td>\n",
       "      <td>95.714286</td>\n",
       "      <td>12.428571</td>\n",
       "      <td>108.142857</td>\n",
       "      <td>95.714286</td>\n",
       "    </tr>\n",
       "    <tr>\n",
       "      <th>22</th>\n",
       "      <td>2023-01-23</td>\n",
       "      <td>120</td>\n",
       "      <td>91</td>\n",
       "      <td>0.016949</td>\n",
       "      <td>-0.021505</td>\n",
       "      <td>True</td>\n",
       "      <td>1.20</td>\n",
       "      <td>111.428571</td>\n",
       "      <td>94.857143</td>\n",
       "      <td>16.571429</td>\n",
       "      <td>111.428571</td>\n",
       "      <td>94.857143</td>\n",
       "    </tr>\n",
       "    <tr>\n",
       "      <th>23</th>\n",
       "      <td>2023-01-24</td>\n",
       "      <td>121</td>\n",
       "      <td>90</td>\n",
       "      <td>0.008333</td>\n",
       "      <td>-0.010989</td>\n",
       "      <td>True</td>\n",
       "      <td>1.21</td>\n",
       "      <td>114.428571</td>\n",
       "      <td>93.714286</td>\n",
       "      <td>20.714286</td>\n",
       "      <td>114.428571</td>\n",
       "      <td>93.714286</td>\n",
       "    </tr>\n",
       "    <tr>\n",
       "      <th>24</th>\n",
       "      <td>2023-01-25</td>\n",
       "      <td>120</td>\n",
       "      <td>89</td>\n",
       "      <td>-0.008264</td>\n",
       "      <td>-0.011111</td>\n",
       "      <td>False</td>\n",
       "      <td>1.20</td>\n",
       "      <td>116.571429</td>\n",
       "      <td>92.571429</td>\n",
       "      <td>24.000000</td>\n",
       "      <td>116.571429</td>\n",
       "      <td>92.571429</td>\n",
       "    </tr>\n",
       "    <tr>\n",
       "      <th>25</th>\n",
       "      <td>2023-01-26</td>\n",
       "      <td>118</td>\n",
       "      <td>88</td>\n",
       "      <td>-0.016667</td>\n",
       "      <td>-0.011236</td>\n",
       "      <td>False</td>\n",
       "      <td>1.18</td>\n",
       "      <td>117.714286</td>\n",
       "      <td>91.428571</td>\n",
       "      <td>26.285714</td>\n",
       "      <td>117.714286</td>\n",
       "      <td>91.428571</td>\n",
       "    </tr>\n",
       "  </tbody>\n",
       "</table>\n",
       "</div>"
      ],
      "text/plain": [
       "         Date  CompanyA_StockPrice  CompanyB_StockPrice  \\\n",
       "19 2023-01-20                  112                   95   \n",
       "20 2023-01-21                  115                   94   \n",
       "21 2023-01-22                  118                   93   \n",
       "22 2023-01-23                  120                   91   \n",
       "23 2023-01-24                  121                   90   \n",
       "24 2023-01-25                  120                   89   \n",
       "25 2023-01-26                  118                   88   \n",
       "\n",
       "    CompanyA_PercentageChange  CompanyB_DailyReturns  CompanyA_Diff  \\\n",
       "19                   0.018182              -0.010417           True   \n",
       "20                   0.026786              -0.010526           True   \n",
       "21                   0.026087              -0.010638           True   \n",
       "22                   0.016949              -0.021505           True   \n",
       "23                   0.008333              -0.010989           True   \n",
       "24                  -0.008264              -0.011111          False   \n",
       "25                  -0.016667              -0.011236          False   \n",
       "\n",
       "    CompanyA_CumulativeReturns  CompanyA_7DayRollingAvg  \\\n",
       "19                        1.12               102.428571   \n",
       "20                        1.15               104.857143   \n",
       "21                        1.18               108.142857   \n",
       "22                        1.20               111.428571   \n",
       "23                        1.21               114.428571   \n",
       "24                        1.20               116.571429   \n",
       "25                        1.18               117.714286   \n",
       "\n",
       "    CompanyB_7DayRollingAvg  RollingAvg_Difference  CompanyA_50DayMovingAvg  \\\n",
       "19                96.285714               6.142857               102.428571   \n",
       "20                96.142857               8.714286               104.857143   \n",
       "21                95.714286              12.428571               108.142857   \n",
       "22                94.857143              16.571429               111.428571   \n",
       "23                93.714286              20.714286               114.428571   \n",
       "24                92.571429              24.000000               116.571429   \n",
       "25                91.428571              26.285714               117.714286   \n",
       "\n",
       "    CompanyB_50DayMovingAvg  \n",
       "19                96.285714  \n",
       "20                96.142857  \n",
       "21                95.714286  \n",
       "22                94.857143  \n",
       "23                93.714286  \n",
       "24                92.571429  \n",
       "25                91.428571  "
      ]
     },
     "execution_count": 11,
     "metadata": {},
     "output_type": "execute_result"
    }
   ],
   "source": [
    "df['CompanyA_50DayMovingAvg'] = df['CompanyA_StockPrice'].rolling(window=7).mean()\n",
    "df['CompanyB_50DayMovingAvg'] = df['CompanyB_StockPrice'].rolling(window=7).mean()\n",
    "filtered_df = df[(df['CompanyA_StockPrice'] > df['CompanyA_50DayMovingAvg']) & (df['CompanyB_StockPrice'] < df['CompanyB_50DayMovingAvg'])]\n",
    "print(\"DataFrame with Dates Meeting the Criteria:\")\n",
    "df=pd.DataFrame(filtered_df)\n",
    "df"
   ]
  }
 ],
 "metadata": {
  "kernelspec": {
   "display_name": "Python 3",
   "language": "python",
   "name": "python3"
  },
  "language_info": {
   "codemirror_mode": {
    "name": "ipython",
    "version": 3
   },
   "file_extension": ".py",
   "mimetype": "text/x-python",
   "name": "python",
   "nbconvert_exporter": "python",
   "pygments_lexer": "ipython3",
   "version": "3.8.5"
  }
 },
 "nbformat": 4,
 "nbformat_minor": 4
}
